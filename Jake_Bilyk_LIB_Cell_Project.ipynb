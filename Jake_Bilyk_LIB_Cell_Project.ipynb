{
 "cells": [
  {
   "cell_type": "markdown",
   "id": "375ce246",
   "metadata": {},
   "source": [
    "## <center>Goal: Scrape data table from a wikipedia, clean data, and plot cylindrical LIB cell energies</center>\n",
    "#### <center>Thank you to Codecademy, PY4E, and Sateesh110 on GitHub for the bs4 and html codes they have published</center>"
   ]
  },
  {
   "cell_type": "code",
   "execution_count": 1,
   "id": "d1dd3757",
   "metadata": {
    "scrolled": true
   },
   "outputs": [
    {
     "name": "stdout",
     "output_type": "stream",
     "text": [
      "The response status code from the URL request is 200\n"
     ]
    },
    {
     "data": {
      "image/png": "[encoded data removed]",
      "text/plain": [
       "<Figure size 432x288 with 1 Axes>"
      ]
     },
     "metadata": {
      "needs_background": "light"
     },
     "output_type": "display_data"
    }
   ],
   "source": [
    "# Import Modules\n",
    "\n",
    "import pandas as pd\n",
    "import requests\n",
    "from bs4 import BeautifulSoup\n",
    "import numpy as np\n",
    "import matplotlib.pyplot as plt\n",
    "\n",
    "# Assign our desired URL to scrape\n",
    "url = \"https://en.wikipedia.org/wiki/List_of_battery_sizes\"\n",
    "\n",
    "# Get HTML response and check availabilty\n",
    "response = requests.get(url)\n",
    "print(\"The response status code from the URL request is\", response.status_code)\n",
    "\n",
    "# Parse data from HTML into bs4 object\n",
    "# Create pd df and choose correct table index using browser \"Inspect\"/manually identifying\n",
    "soup = BeautifulSoup(response.text, 'html.parser') # I love that pandas can only read the soup after it is prettified\n",
    "df = pd.read_html(soup.prettify())[-4]             # Could I somewhow split using a keyword to make it more automated?                \n",
    "\n",
    "# Rename columns and drop unwanted\n",
    "column_labels = [\"ID\", \"Alt ID\", \"Capacity (mAh/cell)\", \"Diameter (mm)\", \"Length (mm)\", \"Desc.\"]\n",
    "df.columns = column_labels\n",
    "columns_to_drop = ['Alt ID', 'Desc.']\n",
    "df.drop(columns_to_drop,inplace = True, axis=1)\n",
    "\n",
    "# Strip unwanted characters and take low-end of capacity values\n",
    "df['Capacity (mAh/cell)'] = df['Capacity (mAh/cell)'].str.replace('–', ' ')\n",
    "df['Capacity (mAh/cell)'] = df['Capacity (mAh/cell)'].str.split(' ').str[0]\n",
    "df['ID'] = df['ID'].str.split(' ').str[0]\n",
    "\n",
    "# Calculate and create 'Volume' Column \n",
    "volume = []\n",
    "for index, row in df.iterrows():\n",
    "    volume.append((np.pi * (row['Diameter (mm)'] /2)**2) * row['Length (mm)'])\n",
    "df['Volume'] = volume\n",
    "\n",
    "# Make all values floats (thank you @anki_91 StackOverflow)\n",
    "df = df.replace(',','', regex=True)\n",
    "c = df.select_dtypes(object).columns\n",
    "df[c] = df[c].apply(pd.to_numeric,errors='coerce')\n",
    "\n",
    "# Convert mm^3 to L, Convert mAh to Wh and add column\n",
    "df['Volume'] = df['Volume'] / 1e6    \n",
    "LIB_Voltage = 3.2 # Average voltage of LIB cell\n",
    "watt_hours = []\n",
    "\n",
    "for index, row in df.iterrows():\n",
    "    watt_hours.append((row['Capacity (mAh/cell)']) / 1000 * LIB_Voltage)\n",
    "    \n",
    "df['Energy Output (Wh)'] = watt_hours\n",
    "df.rename(columns = {'Volume':'Volume (L)'}, inplace = True)\n",
    "\n",
    "# Calculate Volumetric Energy Density and add column\n",
    "df['Energy Density (Wh/L)'] = df['Energy Output (Wh)'] / df['Volume (L)']\n",
    "\n",
    "# Round to two decimal places\n",
    "df = df.applymap(lambda x: round(x, 2))\n",
    "\n",
    "# Plot common LIB cell energies\n",
    "rows_to_plot = [18650, 21700, 4680]\n",
    "df = df.loc[df['ID'].isin(rows_to_plot)]\n",
    "chart = df.plot.bar(x = 'ID', y = 'Energy Density (Wh/L)', rot = 0, title = 'Energy Densities of Common LIB Cylindrical Cells')\n",
    "for container in chart.containers:\n",
    "    chart.bar_label(container)\n"
   ]
  }
 ],
 "metadata": {
  "kernelspec": {
   "display_name": "Python 3 (ipykernel)",
   "language": "python",
   "name": "python3"
  },
  "language_info": {
   "codemirror_mode": {
    "name": "ipython",
    "version": 3
   },
   "file_extension": ".py",
   "mimetype": "text/x-python",
   "name": "python",
   "nbconvert_exporter": "python",
   "pygments_lexer": "ipython3",
   "version": "3.9.12"
  }
 },
 "nbformat": 4,
 "nbformat_minor": 5
}
